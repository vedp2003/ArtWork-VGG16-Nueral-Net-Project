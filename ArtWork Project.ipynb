{
 "cells": [
  {
   "cell_type": "markdown",
   "id": "0ee68fbc-8382-4528-9a29-71e815e29567",
   "metadata": {},
   "source": [
    "<div class=\"alert alert-block alert-info\">\n",
    "    <h2>Applied Stat Final Project Part 1</h2>\n",
    "    <h3 style=\"text-decoration: underline;\">Exploring Artwork History: A Data Science/Statistics/Machine Learning Approach</h3>\n",
    "    <br>\n",
    "    <b style=\"font-size: 20px;\">Names:</b> <span style=\"font-size: 18px;\">Ved Patel, Tejas Bhardwaj, Girish Ranganathan</span>\n",
    "    <br>\n",
    "</div>"
   ]
  },
  {
   "cell_type": "code",
   "execution_count": null,
   "id": "df01f15f-95dc-43da-84ab-c57f72c352ac",
   "metadata": {},
   "outputs": [],
   "source": [
    "import numpy as np\n",
    "import matplotlib.pyplot as plt\n",
    "import matplotlib as mpl\n",
    "\n",
    "# Load the training dataset from a .npz file\n",
    "trainingDataset = np.load('vgg16_train.npz')  # Load dataset containing 'logit' and 'year' arrays\n",
    "logitData = trainingDataset['logit']          # Extract logit data\n",
    "yearData = trainingDataset['year']            # Extract year data\n",
    "\n",
    "# Compute the mean and center the logit data\n",
    "meanLogitData = np.mean(logitData, axis=0)    # Calculate the mean for each feature across samples\n",
    "centeredLogitData = logitData - meanLogitData # Center the data by subtracting the mean\n",
    "\n",
    "# Compute the covariance matrix of the centered data\n",
    "covarianceMatrix = np.cov(centeredLogitData, rowvar=False) # Covariance matrix (features as variables)\n",
    "\n",
    "# Perform eigen decomposition to get eigenvalues and eigenvectors\n",
    "eigenVals, eigenVecs = np.linalg.eigh(covarianceMatrix)    # Eigenvalues and eigenvectors of covariance matrix\n",
    "\n",
    "# Whiten the data (decorrelate and normalize variances)\n",
    "whitenedLogitData = np.dot(centeredLogitData, eigenVecs) / np.sqrt(eigenVals)\n",
    "\n",
    "# Select the first principal component for 1D PCA\n",
    "pca1DComponent = whitenedLogitData[:, -1]                  # Select the last (largest variance) component\n",
    "\n",
    "# Select the first two principal components for 2D PCA\n",
    "pca2DComponents = whitenedLogitData[:, -2:]                # Select the last two components\n",
    "\n",
    "# Plot the 1D PCA against the year data\n",
    "plt.figure()\n",
    "plt.scatter(pca1DComponent, yearData, c=yearData, cmap='viridis', s=2) # Scatter plot with year as color\n",
    "plt.colorbar(label='Year')                            # Add colorbar indicating year values\n",
    "plt.title(\"Year over M=1 PCA\")                        # Title of the plot\n",
    "plt.xlabel(\"PCA Component 1\")                         # Label for x-axis\n",
    "plt.ylabel(\"Year\")                                    # Label for y-axis\n",
    "plt.show()                                            # Display the plot\n",
    "\n",
    "# Create a 3D scatter plot for 2D PCA components and year data\n",
    "fig = plt.figure()\n",
    "ax = fig.add_subplot(projection='3d')                 # Set up 3D plotting\n",
    "colorMap = mpl.cm.viridis                             # Define colormap (Viridis)\n",
    "colorNorm = mpl.colors.Normalize(vmin=1148, vmax=2012) # Normalize year data for consistent coloring\n",
    "fig.colorbar(mpl.cm.ScalarMappable(norm=colorNorm, cmap=colorMap), ax=plt.gca()) # Add colorbar\n",
    "ax.scatter(pca2DComponents[:, 0],                     # X-axis: First PCA component\n",
    "           pca2DComponents[:, 1],                     # Y-axis: Second PCA component\n",
    "           yearData,                                  # Z-axis: Year data\n",
    "           c=yearData, s=2)                           # Color and size settings\n",
    "plt.title(\"Year over M=2 PCA\")                        # Title of the plot\n",
    "plt.show()                                            # Display the plot\n"
   ]
  },
  {
   "cell_type": "code",
   "execution_count": 33,
   "id": "525e7631-1af2-414b-825c-4624d7115b85",
   "metadata": {},
   "outputs": [
    {
     "name": "stdout",
     "output_type": "stream",
     "text": [
      "Training MSE: 9776.837184479466\n"
     ]
    }
   ],
   "source": [
    "from sklearn.preprocessing import PolynomialFeatures\n",
    "import numpy as np\n",
    "\n",
    "# Load training data from the .npz file\n",
    "trainingData = np.load('vgg16_train.npz')  # Load the dataset\n",
    "logitValues = trainingData['logit']        # Extract 'logit' features\n",
    "yearValues = trainingData['year']          # Extract 'year' target values\n",
    "\n",
    "# Transform the PCA features into polynomial features\n",
    "polyTransformer = PolynomialFeatures(degree=2)          # Create polynomial feature transformer (degree=2)\n",
    "transformedPcaFeatures = polyTransformer.fit_transform(pca2DComponents) # Apply the transformation\n",
    "\n",
    "# Define a function to fit a polynomial model using least squares\n",
    "def polynomialModelFit(X, y):\n",
    "    return np.linalg.lstsq(X, y, rcond=None)[0]          # Solve the least squares problem for model coefficients\n",
    "\n",
    "# Compute model coefficients for the polynomial model\n",
    "modelCoefficients = polynomialModelFit(transformedPcaFeatures, yearValues)\n",
    "\n",
    "# Define a function to make predictions using the polynomial model\n",
    "def modelPredict(X, coeffs):\n",
    "    return np.dot(X, coeffs)                             # Compute predictions as a dot product of features and coefficients\n",
    "\n",
    "# Predict training target values using the polynomial model\n",
    "predictedTrainValues = modelPredict(transformedPcaFeatures, modelCoefficients)\n",
    "\n",
    "# Define a function to calculate mean squared error (MSE)\n",
    "def calculateMse(actual, predicted):\n",
    "    return np.mean((actual - predicted) ** 2)            # Compute average squared error between actual and predicted values\n",
    "\n",
    "# Calculate the training MSE for the polynomial model\n",
    "trainingMse = calculateMse(yearValues, predictedTrainValues) # Compute MSE for training data\n",
    "print(\"Training MSE:\", trainingMse)                           # Output the training MSE\n"
   ]
  },
  {
   "cell_type": "code",
   "execution_count": 34,
   "id": "ba4c75f4-0dbf-4efa-8920-459ad840dd6d",
   "metadata": {},
   "outputs": [
    {
     "name": "stdout",
     "output_type": "stream",
     "text": [
      "Test MSE: 9803.874918820336\n",
      "Most accurate prediction: 921_the-angelus-1859.jpg\n",
      "Least accurate prediction: 1803_untitled-holy-hole-1984.jpg\n"
     ]
    }
   ],
   "source": [
    "# Load test dataset from the .npz file\n",
    "testData = np.load('vgg16_test.npz', allow_pickle=True)  # Load test data\n",
    "testLogitData = testData['logit']                       # Extract 'logit' features from the test data\n",
    "testYearData = testData['year']                         # Extract 'year' values (ground truth for testing)\n",
    "testFileNames = testData['filename']                    # Extract filenames corresponding to the test data\n",
    "\n",
    "# Center the test logit data using the mean from the training data\n",
    "centeredTestLogits = testLogitData - meanLogitData      # Center test data by subtracting the training mean\n",
    "\n",
    "# Reduce test data to the same PCA space (2D) using eigenvectors and eigenvalues\n",
    "reducedTestPcaComponents = np.dot(centeredTestLogits, eigenVecs[:, -2:]) # Project data into top 2 PCA components\n",
    "reducedTestPcaComponents /= np.sqrt(eigenVals[-2:])                      # Whiten the PCA components\n",
    "\n",
    "# Transform reduced PCA features into polynomial features\n",
    "transformedTestPcaFeatures = polyTransformer.fit_transform(reducedTestPcaComponents)\n",
    "\n",
    "# Predict year values for the test data using the trained polynomial model\n",
    "predictedTestYears = modelPredict(transformedTestPcaFeatures, modelCoefficients)\n",
    "\n",
    "# Compute the test Mean Squared Error (MSE)\n",
    "testMseError = calculateMse(testYearData, predictedTestYears)            # Calculate the MSE for test data\n",
    "print(\"Test MSE:\", testMseError)                                         # Print the test MSE\n",
    "\n",
    "# Compute prediction errors and identify the best and worst predictions\n",
    "predictionErrors = np.abs(predictedTestYears - testYearData)             # Absolute prediction errors\n",
    "bestPredictionIndex = np.argmin(predictionErrors)                       # Index of the most accurate prediction\n",
    "worstPredictionIndex = np.argmax(predictionErrors)                      # Index of the least accurate prediction\n",
    "\n",
    "# Print filenames corresponding to the best and worst predictions\n",
    "print(f\"Most accurate prediction: {testFileNames[bestPredictionIndex]}\")  # File with least error\n",
    "print(f\"Least accurate prediction: {testFileNames[worstPredictionIndex]}\") # File with highest error\n"
   ]
  },
  {
   "cell_type": "code",
   "execution_count": 43,
   "id": "bb57292c-87f3-4d0d-8020-9d4484126b51",
   "metadata": {},
   "outputs": [
    {
     "name": "stdout",
     "output_type": "stream",
     "text": [
      "Degree 1, Training MSE: 11860.422007194355, Test MSE: 12071.535147410608\n",
      "Degree 2, Training MSE: 9776.837184479466, Test MSE: 9803.874918820336\n",
      "Degree 3, Training MSE: 8525.445096576828, Test MSE: 8063.435180116439\n",
      "Degree 4, Training MSE: 7497.650560375392, Test MSE: 7293.493417507487\n",
      "Degree 5, Training MSE: 6757.552955870504, Test MSE: 6530.915683532492\n",
      "Degree 6, Training MSE: 6432.48343576492, Test MSE: 6575.792454610773\n",
      "Degree 7, Training MSE: 6036.294343246365, Test MSE: 6453.415439642564\n",
      "Degree 8, Training MSE: 5809.163394940707, Test MSE: 5880.835038024897\n",
      "Degree 9, Training MSE: 5651.032381022186, Test MSE: 7415.265426771036\n",
      "Degree 10, Training MSE: 5676.02832187296, Test MSE: 8645.927875731117\n"
     ]
    }
   ],
   "source": [
    "#Polynomail Regression with Various Degrees\n",
    "for degree in range(1, 11):  # Iterate over polynomial degrees\n",
    "    # Transform training data\n",
    "    poly_transformer = PolynomialFeatures(degree=degree)\n",
    "    transformed_train_features = poly_transformer.fit_transform(pca2DComponents)\n",
    "\n",
    "    # Fit the model\n",
    "    model_coeffs = polynomialModelFit(transformed_train_features, yearValues)\n",
    "\n",
    "    # Predict on training data\n",
    "    predicted_train_values = modelPredict(transformed_train_features, model_coeffs)\n",
    "    train_mse = calculateMse(yearValues, predicted_train_values)\n",
    "\n",
    "    # Transform test data\n",
    "    transformed_test_features = poly_transformer.fit_transform(reducedTestPcaComponents)\n",
    "\n",
    "    # Predict on test data\n",
    "    predicted_test_values = modelPredict(transformed_test_features, model_coeffs)\n",
    "    test_mse = calculateMse(testYearData, predicted_test_values)\n",
    "\n",
    "    print(f\"Degree {degree}, Training MSE: {train_mse}, Test MSE: {test_mse}\")"
   ]
  },
  {
   "cell_type": "code",
   "execution_count": 36,
   "id": "05f381fc-b3bc-41c6-a8c5-42fa96b828ed",
   "metadata": {},
   "outputs": [
    {
     "name": "stdout",
     "output_type": "stream",
     "text": [
      "Spline Regression MSE (Alternative Method): 4077.829539715892\n"
     ]
    }
   ],
   "source": [
    "from scipy.interpolate import splrep, splev\n",
    "from sklearn.preprocessing import MinMaxScaler\n",
    "\n",
    "# Normalize PCA components and year values to the range [0, 1]\n",
    "scaler_pca = MinMaxScaler()                                   # Initialize scaler for PCA components\n",
    "normalized_pca = scaler_pca.fit_transform(pca2DComponents)    # Normalize PCA components\n",
    "\n",
    "scaler_year = MinMaxScaler()                                  # Initialize scaler for year values\n",
    "normalized_years = scaler_year.fit_transform(yearValues.reshape(-1, 1)).flatten()  # Normalize year values\n",
    "\n",
    "# Sort PCA components and corresponding year values for spline fitting\n",
    "sorted_indices_x = np.argsort(normalized_pca[:, 0])           # Indices to sort by the first PCA component\n",
    "sorted_x = normalized_pca[sorted_indices_x, 0]               # Sorted first PCA component\n",
    "sorted_years_x = normalized_years[sorted_indices_x]          # Year values corresponding to sorted PCA component\n",
    "\n",
    "sorted_indices_y = np.argsort(normalized_pca[:, 1])           # Indices to sort by the second PCA component\n",
    "sorted_y = normalized_pca[sorted_indices_y, 1]               # Sorted second PCA component\n",
    "sorted_years_y = normalized_years[sorted_indices_y]          # Year values corresponding to sorted PCA component\n",
    "\n",
    "# Fit cubic splines (degree 3) with smoothing factor `s=43.0`\n",
    "tck_x = splrep(sorted_x, sorted_years_x, s=43.0, k=3)         # Fit spline for the first PCA component\n",
    "tck_y = splrep(sorted_y, sorted_years_y, s=43.0, k=3)         # Fit spline for the second PCA component\n",
    "\n",
    "# Evaluate spline predictions for the normalized PCA components\n",
    "spline_predictions_x = splev(normalized_pca[:, 0], tck_x)     # Predict using the spline fitted to the first PCA component\n",
    "spline_predictions_y = splev(normalized_pca[:, 1], tck_y)     # Predict using the spline fitted to the second PCA component\n",
    "\n",
    "# Combine predictions by averaging the two spline outputs\n",
    "spline_predictions = (spline_predictions_x + spline_predictions_y) / 2\n",
    "\n",
    "# Rescale the averaged spline predictions back to the original year range\n",
    "rescaled_predictions = scaler_year.inverse_transform(spline_predictions.reshape(-1, 1)).flatten()\n",
    "\n",
    "# Calculate Mean Squared Error (MSE) for the spline predictions\n",
    "mse_spline = calculateMse(yearValues, rescaled_predictions)   # Compare rescaled predictions to actual year values\n",
    "print(f\"Spline Regression MSE (Alternative Method): {mse_spline}\")  # Print the MSE for spline regression\n"
   ]
  },
  {
   "cell_type": "code",
   "execution_count": 37,
   "id": "96d4ee2e-60b5-45f3-be39-6b2e1a0bc2e4",
   "metadata": {},
   "outputs": [
    {
     "name": "stdout",
     "output_type": "stream",
     "text": [
      "Bootstrap MSE: Mean=1306711.145581894, 95% CI=(6779.746232246565, 13585696.232994609)\n"
     ]
    }
   ],
   "source": [
    "from sklearn.utils import resample\n",
    "\n",
    "# Initialize an empty list to store MSEs from bootstrap samples\n",
    "bootstrap_mses = []\n",
    "n_iterations = 100  # Number of bootstrap iterations\n",
    "\n",
    "for i in range(n_iterations):\n",
    "    # Resample the data with replacement\n",
    "    resampled_features, resampled_years = resample(\n",
    "        transformed_features, yearValues, random_state=i\n",
    "    )\n",
    "    \n",
    "    # Fit a polynomial model using the resampled dataset\n",
    "    resampled_coeffs = polynomialModelFit(resampled_features, resampled_years)\n",
    "    \n",
    "    # Use the model to predict on the original dataset\n",
    "    resampled_predictions = modelPredict(transformed_features, resampled_coeffs)\n",
    "    \n",
    "    # Calculate Mean Squared Error (MSE) on the original dataset\n",
    "    mse = calculateMse(yearValues, resampled_predictions)\n",
    "    bootstrap_mses.append(mse)  # Append the MSE to the list\n",
    "\n",
    "# Convert the list of MSEs to a NumPy array for easier calculations\n",
    "bootstrap_mses = np.array(bootstrap_mses)\n",
    "\n",
    "# Calculate the mean and 95% confidence intervals for the bootstrap MSEs\n",
    "print(f\"Bootstrap MSE: Mean={np.mean(bootstrap_mses)}, 95% CI=({np.percentile(bootstrap_mses, 2.5)}, {np.percentile(bootstrap_mses, 97.5)})\")\n"
   ]
  },
  {
   "cell_type": "code",
   "execution_count": 38,
   "id": "07b8475d-67a1-49b6-b6f1-4901ab3c1886",
   "metadata": {},
   "outputs": [
    {
     "name": "stdout",
     "output_type": "stream",
     "text": [
      "Number of non-constant features: 20\n"
     ]
    }
   ],
   "source": [
    "# Identify columns with zero variance\n",
    "non_constant_columns = np.std(transformed_features, axis=0) > 0\n",
    "\n",
    "# Filter out constant features\n",
    "filtered_features = transformed_features[:, non_constant_columns]\n",
    "print(f\"Number of non-constant features: {filtered_features.shape[1]}\")"
   ]
  },
  {
   "cell_type": "code",
   "execution_count": 39,
   "id": "e17a34f2-8230-42d2-8403-baa2873f2031",
   "metadata": {},
   "outputs": [
    {
     "name": "stdout",
     "output_type": "stream",
     "text": [
      "Selected features after FDR control: 13\n"
     ]
    }
   ],
   "source": [
    "from statsmodels.stats.multitest import multipletests\n",
    "from scipy.stats import linregress\n",
    "\n",
    "# Initialize an empty list to store p-values\n",
    "p_values = []\n",
    "\n",
    "# Iterate through each feature in the filtered features\n",
    "for i in range(filtered_features.shape[1]):\n",
    "    feature = filtered_features[:, i]  # Select the i-th feature\n",
    "    # Perform linear regression between the feature and the target (yearValues)\n",
    "    slope, intercept, r_value, p_value, std_err = linregress(feature, yearValues)\n",
    "    p_values.append(p_value)  # Append the computed p-value\n",
    "\n",
    "# Convert p-values list to a numpy array\n",
    "p_values = np.array(p_values)\n",
    "\n",
    "# Apply FDR control using Benjamini-Hochberg\n",
    "_, corrected_p_values, _, _ = multipletests(p_values, alpha=0.05, method='fdr_bh')\n",
    "\n",
    "# Select features below the FDR threshold\n",
    "selected_features = filtered_features[:, corrected_p_values < 0.05]\n",
    "print(f\"Selected features after FDR control: {selected_features.shape[1]}\")\n"
   ]
  },
  {
   "cell_type": "code",
   "execution_count": null,
   "id": "14d3f730-cef5-4bd4-a266-bdc4230fc01a",
   "metadata": {},
   "outputs": [],
   "source": [
    "plt.figure()\n",
    "for degree in range(1, 6):\n",
    "    plt.plot(pca2DComponents[:, 0], modelPredict(poly_transformer\n",
    "                                                 .fit_transform(pca2DComponents), model_coeffs), label=f'Degree {degree}')\n",
    "plt.legend()\n",
    "plt.xlabel(\"PCA Component 1\")\n",
    "plt.ylabel(\"Year\")\n",
    "plt.title(\"Polynomial Regression Comparisons\")\n",
    "plt.show()\n"
   ]
  },
  {
   "cell_type": "code",
   "execution_count": 41,
   "id": "a5a474de-c914-4516-8d14-b190ede0c251",
   "metadata": {},
   "outputs": [
    {
     "data": {
      "image/png": "[encoded data removed]",
      "text/plain": [
       "<Figure size 640x480 with 1 Axes>"
      ]
     },
     "metadata": {},
     "output_type": "display_data"
    }
   ],
   "source": [
    "plt.hist(bootstrap_mses, bins=30, alpha=0.7)\n",
    "plt.title(\"Bootstrap MSE Distribution\")\n",
    "plt.xlabel(\"MSE\")\n",
    "plt.ylabel(\"Frequency\")\n",
    "plt.show()\n"
   ]
  },
  {
   "cell_type": "code",
   "execution_count": null,
   "id": "785368bd-aee2-4784-8ab7-d8330ddfb4a0",
   "metadata": {},
   "outputs": [],
   "source": []
  },
  {
   "cell_type": "code",
   "execution_count": null,
   "id": "49020cb5-0c21-4fec-89a0-63674a141da8",
   "metadata": {},
   "outputs": [],
   "source": []
  },
  {
   "cell_type": "code",
   "execution_count": null,
   "id": "0094aba9-5e98-48aa-b9ff-e7a0e182b7a5",
   "metadata": {},
   "outputs": [],
   "source": []
  },
  {
   "cell_type": "code",
   "execution_count": null,
   "id": "6e428016-29d2-4645-85a4-34d2ec0831bc",
   "metadata": {},
   "outputs": [],
   "source": []
  },
  {
   "cell_type": "code",
   "execution_count": null,
   "id": "9c7d69c5-a021-4d36-97e3-8f48ace8dc10",
   "metadata": {},
   "outputs": [],
   "source": []
  },
  {
   "cell_type": "code",
   "execution_count": null,
   "id": "4429d74a-b8aa-49f1-a8ed-fe1af576182b",
   "metadata": {},
   "outputs": [],
   "source": []
  },
  {
   "cell_type": "code",
   "execution_count": null,
   "id": "d7fc7426-917c-472b-95ca-be04def2a0b9",
   "metadata": {},
   "outputs": [],
   "source": []
  },
  {
   "cell_type": "code",
   "execution_count": null,
   "id": "cc3b9307-096c-47e5-a8da-749718d2cefd",
   "metadata": {},
   "outputs": [],
   "source": []
  },
  {
   "cell_type": "code",
   "execution_count": null,
   "id": "06732992-4b7b-4adb-878a-16d98bcb6b01",
   "metadata": {},
   "outputs": [],
   "source": []
  },
  {
   "cell_type": "code",
   "execution_count": null,
   "id": "cf5feb35-a05c-4cde-922e-cd6b448ae53f",
   "metadata": {},
   "outputs": [],
   "source": []
  },
  {
   "cell_type": "code",
   "execution_count": null,
   "id": "3d0235cf-fa18-4dd8-851d-5a3796a042fb",
   "metadata": {},
   "outputs": [],
   "source": []
  },
  {
   "cell_type": "code",
   "execution_count": null,
   "id": "9460a709-7926-4bd3-b77a-5850e3a5421a",
   "metadata": {},
   "outputs": [],
   "source": []
  }
 ],
 "metadata": {
  "kernelspec": {
   "display_name": "Python 3 (ipykernel)",
   "language": "python",
   "name": "python3"
  },
  "language_info": {
   "codemirror_mode": {
    "name": "ipython",
    "version": 3
   },
   "file_extension": ".py",
   "mimetype": "text/x-python",
   "name": "python",
   "nbconvert_exporter": "python",
   "pygments_lexer": "ipython3",
   "version": "3.12.2"
  }
 },
 "nbformat": 4,
 "nbformat_minor": 5
}
